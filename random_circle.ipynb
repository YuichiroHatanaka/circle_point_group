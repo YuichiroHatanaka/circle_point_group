{
 "cells": [
  {
   "cell_type": "markdown",
   "id": "fddf6651",
   "metadata": {},
   "source": [
    "# 赤い点を中心に点群を生成するコード"
   ]
  },
  {
   "cell_type": "code",
   "execution_count": 1,
   "id": "d3a0e248",
   "metadata": {},
   "outputs": [],
   "source": [
    "import random\n",
    "import matplotlib.pyplot as plt"
   ]
  },
  {
   "cell_type": "markdown",
   "id": "c8149dea",
   "metadata": {},
   "source": [
    "## 中心となる赤い点の姿勢を設定"
   ]
  },
  {
   "cell_type": "code",
   "execution_count": 2,
   "id": "f058f091",
   "metadata": {},
   "outputs": [
    {
     "name": "stdout",
     "output_type": "stream",
     "text": [
      "機体の姿勢 x を入力\n",
      "3\n",
      "機体の姿勢 y を入力\n",
      "7\n"
     ]
    }
   ],
   "source": [
    "print(\"機体の姿勢 x を入力\")\n",
    "aa = input()\n",
    "a = int(aa)\n",
    "\n",
    "print(\"機体の姿勢 y を入力\")\n",
    "bb = input()\n",
    "b = int(bb)\n",
    "\n",
    "#動作確認\n",
    "#print(a, b)"
   ]
  },
  {
   "cell_type": "markdown",
   "id": "db1138a1",
   "metadata": {},
   "source": [
    "## 点群の範囲を設定"
   ]
  },
  {
   "cell_type": "code",
   "execution_count": 3,
   "id": "f2320aa2",
   "metadata": {
    "scrolled": true
   },
   "outputs": [
    {
     "name": "stdout",
     "output_type": "stream",
     "text": [
      "点群の中心からの半径を入力\n",
      "5\n"
     ]
    }
   ],
   "source": [
    "print(\"点群の中心からの半径を入力\")\n",
    "nn = input()\n",
    "n = int(nn)"
   ]
  },
  {
   "cell_type": "markdown",
   "id": "78a3db74",
   "metadata": {},
   "source": [
    "## 赤い点の周囲に円状の点群を生成"
   ]
  },
  {
   "cell_type": "code",
   "execution_count": 4,
   "id": "0a9b430b",
   "metadata": {},
   "outputs": [
    {
     "data": {
      "image/png": "[encoded data removed]",
      "text/plain": [
       "<Figure size 432x288 with 1 Axes>"
      ]
     },
     "metadata": {
      "needs_background": "light"
     },
     "output_type": "display_data"
    }
   ],
   "source": [
    "def is_inside_circle(x, y):\n",
    "    \n",
    "# 円の内側なら描画\n",
    "    if x**2 + y**2 <= n**2:\n",
    "        return True\n",
    "    \n",
    "# 外側なら描画しない \n",
    "    else:\n",
    "        return False\n",
    "   \n",
    "    \n",
    "# 試行回数\n",
    "N = 1000\n",
    "\n",
    "for _ in range(N):\n",
    "    \n",
    "# 点を打つ場所をランダムに決める\n",
    "# random.uniform(x, y)は、x~yの任意の浮動少数点数を生成する\n",
    "    x = random.uniform(-n, n)\n",
    "    y = random.uniform(-n, n)\n",
    "    \n",
    "    # 決めた点(x, y)が円の内側にあればグラフに点を描画\n",
    "    if is_inside_circle(x, y):\n",
    "        plt.plot(a, b, color='r', marker='.')        # 中心の点を描画\n",
    "        plt.plot(x+a, y+b, color='k', marker='.')    # グラフに点を描画\n",
    "\n",
    "# グラフを表示する\n",
    "plt.gca().set_xlim(-2*n+a,2*n+a)\n",
    "plt.gca().set_ylim(-2*n+b,2*n+b)\n",
    "plt.gca().set_aspect('equal')\n",
    "plt.show()"
   ]
  }
 ],
 "metadata": {
  "kernelspec": {
   "display_name": "Python 3",
   "language": "python",
   "name": "python3"
  },
  "language_info": {
   "codemirror_mode": {
    "name": "ipython",
    "version": 3
   },
   "file_extension": ".py",
   "mimetype": "text/x-python",
   "name": "python",
   "nbconvert_exporter": "python",
   "pygments_lexer": "ipython3",
   "version": "3.8.8"
  }
 },
 "nbformat": 4,
 "nbformat_minor": 5
}
